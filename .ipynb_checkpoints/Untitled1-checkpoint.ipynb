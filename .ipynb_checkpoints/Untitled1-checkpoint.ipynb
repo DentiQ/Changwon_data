{
 "cells": [
  {
   "cell_type": "code",
   "execution_count": 30,
   "metadata": {},
   "outputs": [
    {
     "data": {
      "text/plain": [
       "<function TextIOWrapper.close()>"
      ]
     },
     "execution_count": 30,
     "metadata": {},
     "output_type": "execute_result"
    }
   ],
   "source": [
    "import csv\n",
    "import json\n",
    "\n",
    "f = open('경상남도 창원시_불법주정차단속정보_20200831_결과.csv', 'r')\n",
    "rdr = csv.reader(f)\n",
    "\n",
    "newlines = [] \n",
    "myline = [] # 주소, 위도-경도, 빈도\n",
    "freq = []\n",
    "\n",
    "for line in rdr:\n",
    "    if(line[6] != 'error') :\n",
    "        latIndex = line[7].index('lat')\n",
    "        lngIndex = line[7].index('lng')\n",
    "        lat = line[7][latIndex+6:lngIndex-3]\n",
    "        lng = line[7][lngIndex+6:-1]\n",
    "        location = [lat, lng]\n",
    "\n",
    "        myline = [line[6], location]\n",
    "\n",
    "        if(myline in newlines) :\n",
    "            freq[newlines.index(myline)] += 1\n",
    "        else :\n",
    "            newlines.append(myline)\n",
    "            freq.append(1)\n",
    "f.close\n",
    "\n",
    "index = 0\n",
    "for newline in newlines:\n",
    "    newline.append(freq[index])\n",
    "    newlines[index] = newline\n",
    "    index+=1\n",
    "    \n",
    "f = open('지도 데이터.csv', 'w', newline='')\n",
    "wr = csv.writer(f)\n",
    "wr.writerows(newlines)\n",
    "f.close\n",
    "        "
   ]
  },
  {
   "cell_type": "code",
   "execution_count": null,
   "metadata": {},
   "outputs": [],
   "source": []
  }
 ],
 "metadata": {
  "kernelspec": {
   "display_name": "Python 3",
   "language": "python",
   "name": "python3"
  },
  "language_info": {
   "codemirror_mode": {
    "name": "ipython",
    "version": 3
   },
   "file_extension": ".py",
   "mimetype": "text/x-python",
   "name": "python",
   "nbconvert_exporter": "python",
   "pygments_lexer": "ipython3",
   "version": "3.7.6"
  }
 },
 "nbformat": 4,
 "nbformat_minor": 4
}
